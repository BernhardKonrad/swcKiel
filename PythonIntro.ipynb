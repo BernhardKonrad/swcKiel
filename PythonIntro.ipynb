{
 "metadata": {
  "name": "",
  "signature": "sha256:534591c14ac12a247ea9865e502fe09447cd59c5c63bdda6e460a4bf0fa374fa"
 },
 "nbformat": 3,
 "nbformat_minor": 0,
 "worksheets": [
  {
   "cells": [
    {
     "cell_type": "heading",
     "level": 1,
     "metadata": {},
     "source": [
      "Intro to Python and IPython Notebook"
     ]
    },
    {
     "cell_type": "markdown",
     "metadata": {},
     "source": [
      "**Based on Lecture Materials By: Milad Fatenejad, Katy Huff, Joshua R. Smith, Tommy Guy, Will Trimble, Bernhard Konrad and many more**"
     ]
    },
    {
     "cell_type": "code",
     "collapsed": false,
     "input": [
      "print 'Good morning Kiel!'"
     ],
     "language": "python",
     "metadata": {},
     "outputs": []
    },
    {
     "cell_type": "markdown",
     "metadata": {},
     "source": [
      "Ctl+return to execute. Allows you to go back and make changes."
     ]
    },
    {
     "cell_type": "markdown",
     "metadata": {},
     "source": [
      "We can execute python scripts from here, just as we did from the shell."
     ]
    },
    {
     "cell_type": "code",
     "collapsed": false,
     "input": [
      "%run hello.py"
     ],
     "language": "python",
     "metadata": {},
     "outputs": []
    },
    {
     "cell_type": "markdown",
     "metadata": {},
     "source": [
      "## Introduction\n",
      "\n",
      "This lecture is on basic programming in python. In order to do the examples, we are going to use an environment called IPython Notebook.  I expect this lecture to be interactive, so stop me at any point if you have questions. The correct power dynamic is that people are the masters and the machines are servants. The computer is a hammer; it exists to help us get things done.  We can hammer nails with the handle, with the claw of the hammer; some of us even hammer nails with bricks.  But when you learn what part of the hammer works best with nails, and have some experience swinging it, you spend less time worrying about the hammering and more time worrying about your furniture."
     ]
    },
    {
     "cell_type": "markdown",
     "metadata": {},
     "source": [
      "So now would be a good time to roll out [PEP 20, The Zen of Python](http://www.python.org/dev/peps/pep-0020/)\n",
      "\n",
      "> Beautiful is better than ugly.  \n",
      "> Explicit is better than implicit.  \n",
      "> Simple is better than complex.  \n",
      "> Complex is better than complicated.  \n",
      "> Flat is better than nested.  \n",
      "> Sparse is better than dense.  \n",
      "> Readability counts.  \n",
      "> Special cases aren't special enough to break the rules.  \n",
      "> Although practicality beats purity.  \n",
      "> Errors should never pass silently.  \n",
      "> Unless explicitly silenced.  \n",
      "> In the face of ambiguity, refuse the temptation to guess.  \n",
      "> There should be one-- and preferably only one --obvious way to do it.  \n",
      "> Although that way may not be obvious at first unless you're Dutch.  \n",
      "> Now is better than never.   \n",
      "> Although never is often better than *right* now.  \n",
      "> If the implementation is hard to explain, it's a bad idea.  \n",
      "> If the implementation is easy to explain, it may be a good idea.  \n",
      "> Namespaces are one honking great idea -- let's do more of those!  "
     ]
    },
    {
     "cell_type": "markdown",
     "metadata": {},
     "source": [
      "Since we are in a browser after all, let's do what all reasonable people do in a browser: Comincs and Lolcats"
     ]
    },
    {
     "cell_type": "markdown",
     "metadata": {},
     "source": [
      "![xkcd](http://imgs.xkcd.com/comics/the_general_problem.png \"I find that when someone's taking time to do something right in the present, they're a perfectionist with no ability to prioritize, whereas when someone took time to do something right in the past, they're a master artisan of great foresight.\")\n",
      "From [xkcd](http://www.xkcd.com)"
     ]
    },
    {
     "cell_type": "markdown",
     "metadata": {},
     "source": [
      "![Python lolcat](http://jellybeansofdoom.com/wp-content/uploads/2012/04/unladen-swallow.jpg)"
     ]
    },
    {
     "cell_type": "markdown",
     "metadata": {},
     "source": [
      "...and link to the corresponding Monty Python video"
     ]
    },
    {
     "cell_type": "code",
     "collapsed": false,
     "input": [
      "from IPython.display import YouTubeVideo\n",
      "YouTubeVideo(\"y2R3FvS4xr4\")"
     ],
     "language": "python",
     "metadata": {},
     "outputs": []
    },
    {
     "cell_type": "markdown",
     "metadata": {},
     "source": [
      "Back to python (the language)"
     ]
    },
    {
     "cell_type": "markdown",
     "metadata": {},
     "source": [
      "## Getting Help\n",
      "\n",
      "\n",
      "\n",
      "IPython has some nice help features. Let's say we want to know more about the integer data type. There are at least two ways to do this task:"
     ]
    },
    {
     "cell_type": "code",
     "collapsed": false,
     "input": [
      "help(int)"
     ],
     "language": "python",
     "metadata": {},
     "outputs": []
    },
    {
     "cell_type": "markdown",
     "metadata": {},
     "source": [
      "which displays a scrolling text help, or"
     ]
    },
    {
     "cell_type": "code",
     "collapsed": false,
     "input": [
      "int?"
     ],
     "language": "python",
     "metadata": {},
     "outputs": []
    },
    {
     "cell_type": "markdown",
     "metadata": {},
     "source": [
      "Which displays a shorter help summary in the magic pane at the bottom of the screen.  You can minimize the magic pane when it gets in your way."
     ]
    },
    {
     "cell_type": "markdown",
     "metadata": {},
     "source": [
      "If you wanted to see all the built-in commands available for something, use the `dir` command. Check out all of the methods of the object \"Hello world\", which are shared by all objects of the str type."
     ]
    },
    {
     "cell_type": "code",
     "collapsed": false,
     "input": [
      "sayHello = \"Hellow world\"\n",
      "dir(sayHello)"
     ],
     "language": "python",
     "metadata": {},
     "outputs": []
    },
    {
     "cell_type": "markdown",
     "metadata": {},
     "source": [
      "**Notice the tab completion!**\n",
      "\n",
      "There's a method that looks important -- `.swapcase()`.  Let's see what it does:  "
     ]
    },
    {
     "cell_type": "code",
     "collapsed": false,
     "input": [
      "\"Hello world\".swapcase()"
     ],
     "language": "python",
     "metadata": {},
     "outputs": []
    },
    {
     "cell_type": "markdown",
     "metadata": {},
     "source": [
      "Hrm.  Ahem."
     ]
    },
    {
     "cell_type": "markdown",
     "metadata": {},
     "source": [
      "## On Being Precise with floats and ints\n"
     ]
    },
    {
     "cell_type": "code",
     "collapsed": false,
     "input": [
      "a = 1\n",
      "b = 2\n",
      "c = a+b\n",
      "type(a), type(b), type(c)"
     ],
     "language": "python",
     "metadata": {},
     "outputs": []
    },
    {
     "cell_type": "markdown",
     "metadata": {},
     "source": [
      "So we got a value of three for the sum, which also happens to be an integer. Any operation between two integers is another integer. Makes sense.\n",
      "\n",
      "\n",
      "What about the case where a is an integer and b is a float?"
     ]
    },
    {
     "cell_type": "code",
     "collapsed": false,
     "input": [
      "a = 1\n",
      "b = 2.0\n",
      "c = a+b\n",
      "type(a), type(b), type(c)"
     ],
     "language": "python",
     "metadata": {},
     "outputs": []
    },
    {
     "cell_type": "markdown",
     "metadata": {},
     "source": [
      "For the sum of an integer and a float python uses the more general data type, which is float."
     ]
    },
    {
     "cell_type": "markdown",
     "metadata": {},
     "source": [
      "*This behavior can become problematic for division!*"
     ]
    },
    {
     "cell_type": "code",
     "collapsed": false,
     "input": [
      "a = 1\n",
      "b = 2\n",
      "c = a/b\n",
      "print a, b, c"
     ],
     "language": "python",
     "metadata": {},
     "outputs": []
    },
    {
     "cell_type": "markdown",
     "metadata": {},
     "source": [
      "**ZING!**\n",
      "\n",
      "This is why type is important. Dividing two integers returnes an integer: this operation calculates the integer part of the quotient and discards the remainder.\n",
      "\n",
      "If everything was a float, the division is what you would expect."
     ]
    },
    {
     "cell_type": "code",
     "collapsed": false,
     "input": [
      "a = 1.0\n",
      "b = 2.0\n",
      "c = a/b\n",
      "print a, b, c"
     ],
     "language": "python",
     "metadata": {},
     "outputs": []
    },
    {
     "cell_type": "markdown",
     "metadata": {},
     "source": [
      "## Lists in Python"
     ]
    },
    {
     "cell_type": "markdown",
     "metadata": {},
     "source": [
      "Python would be a fairly useless language if it weren't for the compound data types. The main are **lists**, **dictionaries**, **sets** and **tuples**. We will only cover the most important type **list** here."
     ]
    },
    {
     "cell_type": "markdown",
     "metadata": {},
     "source": [
      "A list is an ordered, indexable collection of data. Lets say you have collected some current and voltage data that looks like this:\n",
      "\n",
      "    voltages:\n",
      "    -2.0\n",
      "    -1.0\n",
      "     0.0\n",
      "     1.0\n",
      "     2.0\n",
      "\n",
      "    currents:\n",
      "    -1.0\n",
      "    -0.5\n",
      "     0.0\n",
      "     0.5\n",
      "     1.0\n",
      "\n",
      "So you could put that data into lists like"
     ]
    },
    {
     "cell_type": "code",
     "collapsed": false,
     "input": [
      "voltages = [-2.0, -1.0, 0.0, 1.0, 2.0]\n",
      "\n",
      "currents = [-1.0, -0.5, 0.0, 0.5, 1.0]\n",
      "\n",
      "type(voltages)"
     ],
     "language": "python",
     "metadata": {},
     "outputs": []
    },
    {
     "cell_type": "markdown",
     "metadata": {},
     "source": [
      "**Python lists are indexed from zero.** This is in agreement with Java, C, C++, but different from R or Matlab.  Therefore, to find the value of the first item in `voltages`:"
     ]
    },
    {
     "cell_type": "code",
     "collapsed": false,
     "input": [
      "print voltages[0]\n",
      "print currents[2]\n",
      "print currents[-1]"
     ],
     "language": "python",
     "metadata": {},
     "outputs": []
    },
    {
     "cell_type": "markdown",
     "metadata": {},
     "source": [
      "You can \"slice\" items from within a list. Lets say we wanted the second through fourth items from `voltages`"
     ]
    },
    {
     "cell_type": "code",
     "collapsed": false,
     "input": [
      "voltages[1:4]"
     ],
     "language": "python",
     "metadata": {},
     "outputs": []
    },
    {
     "cell_type": "markdown",
     "metadata": {},
     "source": [
      "Slicing lists from the beginning until a given index or from a given index to the end \n",
      "is so common a task that it has a shortcut.  If you omit the index to the left of \n",
      "the colon, it is interpreted as 0.   If you omit the index to the right of the colon, \n",
      "it is interpreted as `len(<list>)`.  So this expression takes all the elements starting \n",
      "from the third and continuing to the end of the list:"
     ]
    },
    {
     "cell_type": "code",
     "collapsed": false,
     "input": [
      "print voltages[2:]\n",
      "print voltages[0:len(voltages)]  # this expression gives the entire list.\n",
      "print voltages[:]                # and this is the shortcut for the above."
     ],
     "language": "python",
     "metadata": {},
     "outputs": []
    },
    {
     "cell_type": "markdown",
     "metadata": {},
     "source": [
      "It is possible to append values to lists"
     ]
    },
    {
     "cell_type": "code",
     "collapsed": false,
     "input": [
      "print voltages\n",
      "voltages.append(3.0)\n",
      "print voltages"
     ],
     "language": "python",
     "metadata": {},
     "outputs": []
    },
    {
     "cell_type": "markdown",
     "metadata": {},
     "source": [
      "**Assigning Variables to Other Variables**\n",
      "\n",
      "Something that might cause you headaches in the future is how python deals with assignment of one variable to another. When you set a variable equal to another, both variables point to the same thing. Changing the first one ends up changing the second. Be careful about this fact."
     ]
    },
    {
     "cell_type": "code",
     "collapsed": false,
     "input": [
      "a = [1, 2]\n",
      "b = a\n",
      "print b\n",
      "a.append(3)\n",
      "print a\n",
      "print b"
     ],
     "language": "python",
     "metadata": {},
     "outputs": []
    },
    {
     "cell_type": "markdown",
     "metadata": {},
     "source": [
      "To actually make a copy of a list, use the `list()` builtin method."
     ]
    },
    {
     "cell_type": "code",
     "collapsed": false,
     "input": [
      "a = [1, 2]\n",
      "b = list(a)\n",
      "a.append(10)\n",
      "print a\n",
      "print b"
     ],
     "language": "python",
     "metadata": {},
     "outputs": []
    },
    {
     "cell_type": "markdown",
     "metadata": {},
     "source": [
      "There's a ton more to know about lists, but let's press on. Check out [Dive Into Python](http://www.diveintopython.net/toc/index.html) or the [Python documentation](http://docs.python.org/2/) for more info."
     ]
    },
    {
     "cell_type": "markdown",
     "metadata": {},
     "source": [
      "## Flow Control"
     ]
    },
    {
     "cell_type": "markdown",
     "metadata": {},
     "source": [
      "### Boolean operators\n",
      "\n",
      "Python comes with literal comparison operators.  Namely, `< > <= >= == !=`.  All comparisons return the literal Boolean values: `True` or `False`.  These can be used to test values against one another. For example,"
     ]
    },
    {
     "cell_type": "code",
     "collapsed": false,
     "input": [
      "print 2 + 2 == 4\n",
      "print 5 < 3.5"
     ],
     "language": "python",
     "metadata": {},
     "outputs": []
    },
    {
     "cell_type": "markdown",
     "metadata": {},
     "source": [
      "Comparisons can be chained together with the the **and** & **or** Python keywords, and negated with the **not** keyword."
     ]
    },
    {
     "cell_type": "code",
     "collapsed": false,
     "input": [
      "42 < 24 or not 'wow' == 'mom'"
     ],
     "language": "python",
     "metadata": {},
     "outputs": []
    },
    {
     "cell_type": "markdown",
     "metadata": {},
     "source": [
      "### If statements\n",
      "\n",
      "Comparisons can be used to control program behavior by placing them in an **if** statement.  Such statements have the following form:\n",
      "\n",
      "    if <condition>:\n",
      "        <indented block of code>\n",
      "\n",
      "The indented code will only be execute if the condition evaluates to `True`, which is a special Boolean value."
     ]
    },
    {
     "cell_type": "code",
     "collapsed": false,
     "input": [
      "x = 5\n",
      "if x < 0:\n",
      "    print \"x is negative\""
     ],
     "language": "python",
     "metadata": {},
     "outputs": []
    },
    {
     "cell_type": "markdown",
     "metadata": {},
     "source": [
      "Many cases may be tested by using the **elif** statement.  These come between all the `if` and `else` statements:\n",
      "\n",
      "    if <if-condition>:\n",
      "        <if-block>\n",
      "    elif <elif-condition>:\n",
      "        <elif-block>\n",
      "    else:\n",
      "        <else-block>\n",
      "        \n",
      "When if-condition is true then only the if-block is executed.  When elif-condition is true then only the elif-block is executed.  When neither of these are true then the else-block is executed."
     ]
    },
    {
     "cell_type": "code",
     "collapsed": false,
     "input": [
      "x = -1\n",
      "if x < 0:\n",
      "    print \"x is negative\"\n",
      "elif x == 0:\n",
      "    print \"x is zero\"\n",
      "else:\n",
      "    print \"x is positive\""
     ],
     "language": "python",
     "metadata": {},
     "outputs": []
    },
    {
     "cell_type": "markdown",
     "metadata": {},
     "source": [
      "#### Challenge\n",
      "\n",
      "Write an if statement that prints whether x is even or odd.\n",
      "\n",
      "Hint:  % is the **modular division operator**.  `a % b` returns the remainder after a is divided by b: "
     ]
    },
    {
     "cell_type": "code",
     "collapsed": false,
     "input": [
      "print x\n",
      "#  Your code goes here"
     ],
     "language": "python",
     "metadata": {},
     "outputs": []
    },
    {
     "cell_type": "markdown",
     "metadata": {},
     "source": [
      "### For loops"
     ]
    },
    {
     "cell_type": "markdown",
     "metadata": {},
     "source": [
      "For-loops have the following structure:\n",
      "\n",
      "    for <loop variable name> in <iterable>:\n",
      "         <indented block of code>\n",
      "\n",
      "Here `<loop variable name>` is the name of a **new** variable that the for loop will define on each iteration, and `<iterable>` is an object that knows how to give us its items in succession.  Lists, sets, and file handles can be iterated over like this.  The `for` loop assigns `<loop variable name>` to the first value of `<iterable>` and runs the block of code.  It then gets the next value of `<iterable>` and runs the block again until `<iterable>` is exhausted."
     ]
    },
    {
     "cell_type": "code",
     "collapsed": false,
     "input": [
      "fruits = ['apples', 'oranges', 'pears', 'bananas']\n",
      "for fruit in fruits:\n",
      "    print fruit"
     ],
     "language": "python",
     "metadata": {},
     "outputs": []
    },
    {
     "cell_type": "code",
     "collapsed": false,
     "input": [
      "# Use range for a range on integers\n",
      "for i in range(len(fruits)):\n",
      "    print i, fruits[i]"
     ],
     "language": "python",
     "metadata": {},
     "outputs": []
    },
    {
     "cell_type": "markdown",
     "metadata": {},
     "source": [
      "`zip` is a function that takes two lists and returns a list of tuples."
     ]
    },
    {
     "cell_type": "code",
     "collapsed": false,
     "input": [
      "# Use zip to iterate over two lists at once\n",
      "fruits = ['apples', 'oranges', 'pears', 'bananas']\n",
      "prices = [0.49, 0.99, 1.49, 0.32]\n",
      "for fruit, price in zip(fruits, prices):\n",
      "    print fruit, \"cost\", price, \"each\"\n"
     ],
     "language": "python",
     "metadata": {},
     "outputs": []
    },
    {
     "cell_type": "markdown",
     "metadata": {},
     "source": [
      "#### Challenge\n",
      "\n",
      "Write a for loop to calculate `7! = 7*6*5*4*3*2*1`"
     ]
    },
    {
     "cell_type": "code",
     "collapsed": false,
     "input": [
      "#your for loop here"
     ],
     "language": "python",
     "metadata": {},
     "outputs": []
    },
    {
     "cell_type": "markdown",
     "metadata": {},
     "source": [
      "## Working with strings"
     ]
    },
    {
     "cell_type": "code",
     "collapsed": false,
     "input": [
      "firstname = \"Bernhard\"\n",
      "lastname = \"Konrad\"\n",
      "firstname + lastname"
     ],
     "language": "python",
     "metadata": {},
     "outputs": []
    },
    {
     "cell_type": "markdown",
     "metadata": {},
     "source": [
      "### Challenge\n",
      "\n",
      "The operations * and + are defined for some combinations of data types, but not for others.  Determine which of these operations gives an error.  Any surprises?  "
     ]
    },
    {
     "cell_type": "code",
     "collapsed": false,
     "input": [
      "myint = 3\n",
      "myfloat = 4.0\n",
      "mystring = \"string\""
     ],
     "language": "python",
     "metadata": {},
     "outputs": []
    },
    {
     "cell_type": "code",
     "collapsed": false,
     "input": [
      "myint * myfloat "
     ],
     "language": "python",
     "metadata": {},
     "outputs": []
    },
    {
     "cell_type": "code",
     "collapsed": false,
     "input": [
      "myint * mystring"
     ],
     "language": "python",
     "metadata": {},
     "outputs": []
    },
    {
     "cell_type": "code",
     "collapsed": false,
     "input": [
      "myfloat * mystring"
     ],
     "language": "python",
     "metadata": {},
     "outputs": []
    },
    {
     "cell_type": "code",
     "collapsed": false,
     "input": [
      "myfloat + mystring"
     ],
     "language": "python",
     "metadata": {},
     "outputs": []
    },
    {
     "cell_type": "markdown",
     "metadata": {},
     "source": [
      "### End of Challenge"
     ]
    },
    {
     "cell_type": "markdown",
     "metadata": {},
     "source": [
      "The help page for string is very long, and it may be easier to keep it open\n",
      "in a browser window by going to the [online Python\n",
      "documentation for str](http://docs.python.org/2/library/functions.html#str) and the documentation for [sequence types](http://docs.python.org/library/stdtypes.html#sequence-types-str-unicode-list-tuple-bytearray-buffer-xrange)\n",
      "while we talk about its properties.\n",
      "\n",
      "At its heart, a string is just a sequence of characters. Basic strings are\n",
      "defined using single or double quotes. The reason for having two types of quotes to define a string is\n",
      "emphasized in these examples:"
     ]
    },
    {
     "cell_type": "code",
     "collapsed": false,
     "input": [
      "s = \"Bob's mom called to say hello.\"\n",
      "s = 'Bob's mom called to say hello.'"
     ],
     "language": "python",
     "metadata": {},
     "outputs": []
    },
    {
     "cell_type": "code",
     "collapsed": false,
     "input": [
      "s = \"This is a string\""
     ],
     "language": "python",
     "metadata": {},
     "outputs": []
    },
    {
     "cell_type": "markdown",
     "metadata": {},
     "source": [
      "These string methods are very handy when working with strings"
     ]
    },
    {
     "cell_type": "code",
     "collapsed": false,
     "input": [
      "s.startswith(\"This\")"
     ],
     "language": "python",
     "metadata": {},
     "outputs": []
    },
    {
     "cell_type": "code",
     "collapsed": false,
     "input": [
      "s.split(\" \")"
     ],
     "language": "python",
     "metadata": {},
     "outputs": []
    },
    {
     "cell_type": "code",
     "collapsed": false,
     "input": [
      "'abc' in s"
     ],
     "language": "python",
     "metadata": {},
     "outputs": []
    },
    {
     "cell_type": "code",
     "collapsed": false,
     "input": [
      "s.find('i')"
     ],
     "language": "python",
     "metadata": {},
     "outputs": []
    },
    {
     "cell_type": "code",
     "collapsed": false,
     "input": [
      "question = '%H%ow%z%d%@d%z%th%ez$%@p%ste%rzb%ur%nz%$%@szt%on%gue%?%'\n",
      "print question.replace('%', '').replace('@', 'i').replace('$', 'h').replace('z', ' ')"
     ],
     "language": "python",
     "metadata": {},
     "outputs": []
    },
    {
     "cell_type": "code",
     "collapsed": false,
     "input": [
      "answer = '=H=&!dr=a=nk!c=~ff&&!be=f~r&=!i=t!w=as!c=~~l.='\n",
      "print answer.replace('=', '').replace('&', 'e').replace('~', 'o').replace('!', ' ')"
     ],
     "language": "python",
     "metadata": {},
     "outputs": []
    },
    {
     "cell_type": "markdown",
     "metadata": {},
     "source": [
      "## Reading from and writing to files"
     ]
    },
    {
     "cell_type": "markdown",
     "metadata": {},
     "source": [
      "Python has a built-in function called \"open()\" that can be used to\n",
      "manipulate files. The help information for open is below:"
     ]
    },
    {
     "cell_type": "code",
     "collapsed": false,
     "input": [
      "help(open)"
     ],
     "language": "python",
     "metadata": {},
     "outputs": []
    },
    {
     "cell_type": "markdown",
     "metadata": {},
     "source": [
      "The main two parameters we'll need to worry about are the **name of the\n",
      "file** and the **mode**, which determines whether we can read from or write to\n",
      "the file. open returns a file object which acts like a pointer into the file.\n",
      "An example will make this clear."
     ]
    },
    {
     "cell_type": "code",
     "collapsed": false,
     "input": [
      "f = open('hello.py', 'r')\n",
      "for line in f:\n",
      "    print line\n",
      "f.close()"
     ],
     "language": "python",
     "metadata": {},
     "outputs": []
    },
    {
     "cell_type": "markdown",
     "metadata": {},
     "source": [
      "If your program only creates one stream of output, it's often a good\n",
      "idea to write to the shell using the print function. There are several\n",
      "advantages to this strategy, including the fact that it allows the user\n",
      "to select where they want to store the output without worrying about any\n",
      "command line flags. You can use \"\\>\" to direct the output of your\n",
      "program to a file or use \"|\" to pipe it to another program.\n",
      "\n",
      "Sometimes, you need to direct your output directly to a file handle. For\n",
      "instance, if your program produces two output streams, you may want to\n",
      "assign two open file handles. Opening a file for reading simply requires\n",
      "changing the second option from 'r' to 'w' or 'a'.\n",
      "\n",
      "*Caution!* Opening a file with the 'w' option means start writing *at\n",
      "the beginning*, which may overwrite old material. If you want to append\n",
      "to the file without losing what is already there, open it with 'a'.\n",
      "\n",
      "Writing to a file uses the write() command, which accepts a string."
     ]
    },
    {
     "cell_type": "code",
     "collapsed": false,
     "input": [
      "outfile = open('file_from_ipython.txt', 'w')\n",
      "outfile.write('This is the first line! All done from the IPython Notebook')\n",
      "outfile.close()"
     ],
     "language": "python",
     "metadata": {},
     "outputs": []
    },
    {
     "cell_type": "markdown",
     "metadata": {},
     "source": [
      "## Others"
     ]
    },
    {
     "cell_type": "code",
     "collapsed": false,
     "input": [
      "import matplotlib.pyplot as plt\n",
      "import sys\n",
      "%pylab inline"
     ],
     "language": "python",
     "metadata": {},
     "outputs": []
    },
    {
     "cell_type": "markdown",
     "metadata": {},
     "source": [
      "http://matplotlib.org/gallery.html"
     ]
    },
    {
     "cell_type": "code",
     "collapsed": false,
     "input": [
      "%load http://matplotlib.org/mpl_examples/lines_bars_and_markers/barh_demo.py"
     ],
     "language": "python",
     "metadata": {},
     "outputs": []
    },
    {
     "cell_type": "markdown",
     "metadata": {},
     "source": [
      "More on *magic functions* here: http://nbviewer.ipython.org/github/ipython/ipython/blob/1.x/examples/notebooks/Cell%20Magics.ipynb"
     ]
    },
    {
     "cell_type": "code",
     "collapsed": false,
     "input": [],
     "language": "python",
     "metadata": {},
     "outputs": []
    }
   ],
   "metadata": {}
  }
 ]
}