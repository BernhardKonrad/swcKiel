{
 "metadata": {
  "celltoolbar": "Slideshow",
  "name": "",
  "signature": "sha256:e1b4faab01e2a12146fbf35eb427915f95b5ecec548a214359eb7b34ae932f5f"
 },
 "nbformat": 3,
 "nbformat_minor": 0,
 "worksheets": [
  {
   "cells": [
    {
     "cell_type": "markdown",
     "metadata": {
      "slideshow": {
       "slide_type": "slide"
      }
     },
     "source": [
      "<div align=\"center\"><font size=\"26\">Hello and welcome to</font></div>\n",
      "<div align=\"center\"><img src=\"http://www.data2semantics.org/bootcamp/img/software-carpentry-logo.png\" width=\"40%\" height=\"40%\"/></div>\n",
      "<br>\n",
      "<div align=\"center\"><font size=\"36\">@ </font></div>\n",
      "<br>\n",
      "<div align=\"center\"><img src=\"http://www.geomar.de/typo3temp/pics/geomar_logo_01_3dffd915e0.jpg\" width=\"45%\" height=\"45%\"/></div>"
     ]
    },
    {
     "cell_type": "markdown",
     "metadata": {
      "slideshow": {
       "slide_type": "slide"
      }
     },
     "source": [
      "### Software Carpentry's goal is to make scientists and engineering more productive by teaching them basic computing skills.\n",
      "\n",
      "* Founded in 1997.\n",
      "\n",
      "* About 100 volunteers who ran almost 100 two-day workshop in 2013 alone.\n",
      "\n",
      "* All Material is open access. Please freely share, re-use, modify (just mention SWC as original source).\n",
      "\n",
      "* Supported by the Alfred P. Sloan Foundation and the Mozilla Foundation.\n",
      "\n",
      "<br>\n",
      "\n",
      "<div>\n",
      "<img alt=\"this is image #1\" src=\"http://software-carpentry.org/img/orgs/sloan.png\" style=\"width:100px; height:100px; float:left;\" /> <img alt=\"this is image #2\" src=\"http://software-carpentry.org/img/orgs/mozilla.png\" style=\"width:100px; height:100px; float:right;\" />\n",
      "</div><img src=\"\" width=\"5%\" height=\"5%\"/> <img src=\"\" width=\"5%\" height=\"5%\"/>\n",
      "\n",
      "<img src=\"https://raw.github.com/bernhardkonrad/2014-06-16-Davis/gh-pages/slides/SWCprev.png\" width=\"60%\" height=\"25%\"/>"
     ]
    },
    {
     "cell_type": "markdown",
     "metadata": {
      "slideshow": {
       "slide_type": "slide"
      }
     },
     "source": [
      "# Problem\n",
      "\n",
      "\n",
      "Surveyed almost two thousand Scientists in 2008:\n",
      "\n",
      "* How do you use computer?\n",
      "\n",
      "* How did you learn what you know?"
     ]
    },
    {
     "cell_type": "markdown",
     "metadata": {
      "slideshow": {
       "slide_type": "fragment"
      }
     },
     "source": [
      "## Answers\n",
      "\n",
      "* On average they spend 40% of their time building or using software.\n",
      "\n",
      "* More than half say this number is increasing.\n",
      "\n",
      "* <font color=\"red\"> 96% </font> say that what they know is **mostly self-taught**."
     ]
    },
    {
     "cell_type": "markdown",
     "metadata": {
      "slideshow": {
       "slide_type": "subslide"
      }
     },
     "source": [
      "# What Software Carpentry does\n",
      "\n",
      "Runs two full days of instructions on\n",
      "\n",
      "* The unix shell,\n",
      "\n",
      "* Git and GitHub,\n",
      "\n",
      "* Python or R,\n",
      "\n",
      "* SQL.\n",
      "\n",
      "in order to show scientists how to\n",
      "\n",
      "* automate repetitive tasks,\n",
      "\n",
      "* track and share their work,\n",
      "\n",
      "* build programs in a modular, testable, and reusable way."
     ]
    },
    {
     "cell_type": "markdown",
     "metadata": {
      "slideshow": {
       "slide_type": "slide"
      }
     },
     "source": [
      "# A place for everything and everything in its place.\n",
      "\n",
      "<div align=\"center\"><img src=\"http://images.fineartamerica.com/images-medium-large/a-place-for-everything-and-everything-in-its-place-andrew-armstrong.jpg\" width=\"50%\"></div>"
     ]
    },
    {
     "cell_type": "markdown",
     "metadata": {
      "slideshow": {
       "slide_type": "subslide"
      }
     },
     "source": [
      "<font size=\"6\"> Write code for humans, write data for computers. </font>\n",
      "\n",
      "<br>\n",
      "\n",
      "<font size=\"4\"> <i>\"Let us change our traditional attitude to the construction of programs: Instead of imagining that our main task is to instruct a computer what to do, let us concentrate rather on explaining to humans what we want the computer to do.\"</i>\n",
      "\n",
      "<br>\n",
      "\n",
      "Donald Knuth </font>"
     ]
    },
    {
     "cell_type": "markdown",
     "metadata": {
      "slideshow": {
       "slide_type": "subslide"
      }
     },
     "source": [
      "# Typing\n",
      "\n",
      "* Typos matter\n",
      "* cAsE maTTerS\n",
      "* *th.is* is different from *th-is*\n",
      "* spaces in the names are evil\n",
      "\n",
      "<br>\n",
      "\n",
      "<font style=\"color:red\"> Maybe that means we all have to get better at typing! </font>\n",
      "\n",
      "# Better algorithms beat better hardware\n",
      "\n",
      "* Paranoia makes us productive\n",
      "\n",
      "# The source code is real.\n",
      "\n",
      "The objects are realizations of the source code."
     ]
    },
    {
     "cell_type": "markdown",
     "metadata": {
      "slideshow": {
       "slide_type": "slide"
      }
     },
     "source": [
      "##Housekeeping"
     ]
    },
    {
     "cell_type": "markdown",
     "metadata": {
      "slideshow": {
       "slide_type": "subslide"
      }
     },
     "source": [
      "###Today's topics\n",
      "\n",
      "* Intro to the shell\n",
      "* Intro to version control\n",
      "* Collaborating with GitHub\n",
      "* Intro to SQL\n",
      "\n",
      "###Tomorrow\n",
      "\n",
      "* Python all day long!"
     ]
    },
    {
     "cell_type": "markdown",
     "metadata": {
      "slideshow": {
       "slide_type": "subslide"
      }
     },
     "source": [
      "###Sticky Notes\n",
      "\n",
      "Easy visual feedback for **instructors** and **helpers**.\n",
      "\n",
      "* <font color=\"red\">If you are lost, confused, or need help, put the red sticky up on your laptop.</font>\n",
      "* <font color=\"green\">If all is well, put up the green sticky.</font>\n",
      "\n",
      "*Please asks questions immediately. Don't fall behind.*\n",
      "\n",
      "**Stickies also double as feedback form.**"
     ]
    },
    {
     "cell_type": "markdown",
     "metadata": {
      "slideshow": {
       "slide_type": "subslide"
      }
     },
     "source": [
      "###Etherpad\n",
      "\n",
      "<a href=\"http://etherpad.mozilla.org/2014-08-21-Kiel\">Click.</a>\n",
      "\n",
      "* Easy to share code\n",
      "* Share notes and links with everyone\n",
      "* Ask questions"
     ]
    },
    {
     "cell_type": "markdown",
     "metadata": {
      "slideshow": {
       "slide_type": "subslide"
      }
     },
     "source": [
      "###Tools\n",
      "\n",
      "Things you want to have open:\n",
      "\n",
      "* Bootcamp etherpad\n",
      "* Note-taking device (optional, all material is freely available online)\n",
      "\n",
      "<img src=\"http://rebeccaberto.files.wordpress.com/2012/07/twitter-bird.jpg\" width=\"10%\" height=\"10%\"/> If you're on twitter *(not during a lesson, of course)*, tweet at @swcarpentry or use the hashtag #swcKiel"
     ]
    },
    {
     "cell_type": "markdown",
     "metadata": {
      "slideshow": {
       "slide_type": "slide"
      }
     },
     "source": [
      "# Intro to the Shell\n",
      "\n",
      "* Older than most people in this room, but there are good reasons why it lasted forty-five years."
     ]
    },
    {
     "cell_type": "markdown",
     "metadata": {
      "slideshow": {
       "slide_type": "subslide"
      }
     },
     "source": [
      "## The shell is a generic textual interface for your computer.\n",
      "\n",
      "* A program to run other programs\n",
      "* High action-to-keystroke ration\n",
      "\n",
      "## Reproducible\n",
      "\n",
      "* Records all commands you typed\n",
      "* Basic lab notebook"
     ]
    },
    {
     "cell_type": "markdown",
     "metadata": {
      "slideshow": {
       "slide_type": "subslide"
      }
     },
     "source": [
      "## Automation\n",
      "\n",
      "* Great for repetitive tasks\n",
      "* Repeat tasks once per file/hour/parameter\n",
      "\n",
      "## Glue\n",
      "\n",
      "* Easy to combine several programs (shell commands, Python, Matlab, etc)\n",
      "* Re-use instead of rewriting\n",
      "\n",
      "## But!\n",
      "\n",
      "* Help often cryptic, syntax inconsistent (sorry...)\n",
      "* Powerful and no safety-features"
     ]
    },
    {
     "cell_type": "markdown",
     "metadata": {
      "slideshow": {
       "slide_type": "subslide"
      }
     },
     "source": [
      "### Further reading:\n",
      "\n",
      "Deborah and Eric Ray's *Unix and Linux: Visual QuickStart Guide* (good both as a tutorial and as a reference).\n",
      "\n",
      "<div align=\"center\"><img src=\"https://raw.githubusercontent.com/swcarpentry/bc/master/img/books/ray-ray-unix-linux.png\" width=\"25%\" height=\"25%\"/></div>"
     ]
    },
    {
     "cell_type": "markdown",
     "metadata": {
      "slideshow": {
       "slide_type": "slide"
      }
     },
     "source": [
      "## Let's go!\n",
      "\n",
      "<div align=\"center\"><img src=\"http://x.vukajlija.com/var/uploads/reactions/201207/9512/funny-gifs-ok-lets-go.gif\" width=\"50%\" height=\"50%\"/></div>"
     ]
    }
   ],
   "metadata": {}
  }
 ]
}
